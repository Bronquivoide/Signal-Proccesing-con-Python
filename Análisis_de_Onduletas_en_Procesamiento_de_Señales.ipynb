{
 "cells": [
  {
   "cell_type": "markdown",
   "id": "7cdac04b",
   "metadata": {},
   "source": [
    "# Análisis de onduletas:\n",
    "<span style=\"font-family: 'Verdana'; color: red;\"> *Bronquivoide* </span>\n",
    "\n",
    "### Este es un notebook introductorio al análisis de onduletas dentro del área del procesamiento de señales, el cual tiene como objetivo familiarizarse con la transformada de onduleta (*Wavelet Transform*, o bien,  WT) dentro de Python.\n",
    "\n",
    "# Brevísima Introducción y Fundamentos:\n",
    "\n",
    "### En 1982 Jean Morlet desarrolla la transformada de onduleta como una herramienta matemática para el análisis de ondas sísmicas. El análisis de Morlet consistió en señales de distintas características en el espacio de tiempo y en el de frecuencias; las señales de frecuencias altas tienen una duración temporal más corta que las de frecuencias bajas.\n",
    "\n",
    "### Las onduletas son una familia de funciones de tipo ondulatorio, construídas a partir de traslaciones y dilataciones de una función llamada *onduleta madre (mother wavelet)*, denotada por $\\Psi (t)$:\n",
    "\n",
    "<font size=\"5\"> $\\{ \\Psi_{a,b} (t)=\\frac{1}{\\sqrt{|a|}}\\Psi (\\frac{t-b}{a}) | a,b \\in \\mathbb{R}; a\\neq 0   \\} \\in  \\mathbf{L}_2 (\\mathbb{R})$ </font>\n",
    "\n",
    "### En donde $\\mathbf{L}_2 (\\mathbb{R}):=\\{f:\\mathbb{R} \\rightarrow \\mathbb{R}|\\int _{-\\infty} ^{\\infty}  |f(x)|^2 dx < \\infty \\}$.\n",
    "\n",
    "\n",
    "### Al parámetro $a$ se le conoce como el parámetro de escalamiento, y a $b$ se le conoce como el parámetro de traslación.\n",
    "\n",
    "### Si $|a|<1$, a $ \\Psi_{a,b}$ se le llama *la versión comprimida de la onduleta madre* (en el dominio temporal), y corresponde a frecuencias altas. Si $|a|>1$, $ \\Psi_{a,b}$ tiene un ancho temporal más grande que la onduleta madre, y corresponde a frecuencias bajas.\n",
    "\n",
    "### La resolución de onduletas a diferentes escalas varía en términos del parámetro temporal y del de frecuencia conforme al principio de incertidumbre. Sin meternos en los terrenos de la mecánica cuántica, podemos establecer esta variación mediante la siguiente relación:\n",
    "\n",
    "### Si el parámetro de escalamiento es grande, vamos a tener una resolución fina en el dominio de frecuencia y una resolución pobre en el dominio temporal. Conversamente, conforme el parámetro de escalamiento decrese, tenemos una resolución pobre en el dominio de frecuencia y fina en el dominio temporal.\n",
    "\n",
    "### Definimos la WT continua de una función $f(t)\\in\\mathbf{L}_2$ como:\n",
    "\n",
    "<font size=\"5\"> $W_f (\\Psi,a,b)= \\langle f,\\Psi_{a,b} \\rangle=\\frac{1}{\\sqrt{|a|}}\\int _{-\\infty}^{\\infty} f(t)\\Psi (\\frac{t-b}{a})dt$ </font>\n",
    "\n",
    "### Nota 1: $W$ puede aparecer con distintas notaciones dependiendo la literatura, como $(W_\\Psi f)(a,b)$, etc.\n",
    "\n",
    "### Nota 2: Además, el término $\\Psi (\\frac{t-b}{a})$ comunmente aparece como el conjugado, $\\overline{\\Psi (\\frac{t-b}{a})}$, pero las funciones al estar definidas en el espacio de Hilbert $\\mathbf{L}_2$ sobre el campo de los reales, el conjugado de un real es él mismo.\n",
    "\n",
    "### Nota 3: Hablando de este espacio de Hilbert, $\\langle f,\\Psi_{a,b} \\rangle$ es el producto interior definido en él.\n",
    "\n",
    "### La WT inversa se escribe como:\n",
    "\n",
    "<font size=\"5\"> $f(t)=\\frac{1}{C_ \\Psi} \\int _{-\\infty}^{\\infty} \\int _{-\\infty}^{\\infty} (W_\\Psi f)(a,b) \\Psi_{a,b}(t)\\frac{dadb}{a^2}$ </font>\n",
    "\n",
    "### En donde:\n",
    "\n",
    "<font size=\"5\"> $C_\\Psi = 2\\pi \\int _{-\\infty}^{\\infty} \\frac{|\\hat{\\Psi}(\\omega)|^2}{|\\omega|} d\\omega < \\infty$. La función $\\hat{\\Psi}(\\omega)$ es la transformada de Fourier de la madre $\\Psi (t)$. </font>\n",
    "\n",
    "### ¿Por qué la WT? Transformada de Fourier vs Transformada de Onduleta:\n",
    "\n",
    "### La transformada de Fourier tiene como limitación que trabaja bien para señales estacionarias, es decir, para señales cuya frecuencia no varía con el tiempo. La FT proporciona información difícil de interpretar cuando la variación va incrementando, proporciona una buena resolución en el dominio de frecuencia, pero la resolución es pobre en el dominio temporal. En cambio, la WT es capaz de proporcionar una buena resolución en ambos dominios.\n",
    "\n",
    "### Para aplicar esta teoría en la digitalización de señales, se requiere un algoritmo numérico rápido, la WT continua se vuelve discreta, donde $f(t)$ es escrita como: \n",
    "\n",
    "<font size=\"5\"> $f(t)=\\sum_{m,n \\in \\mathbb{Z}} \\tilde{f}(m,n)\\Psi_{m,n}(t)$ </font>\n",
    "\n",
    "### Entonces:\n",
    "\n",
    "<font size=\"5\"> $\\Psi_{m,n}(t)=2^{m/2}\\cdot \\Psi(2^m t-n), \\forall t\\in \\mathbb{R}, m,n \\in \\mathbb{Z} $ </font>\n",
    "\n",
    "<font size=\"5\"> $\\tilde{f}(m,n)= \\int _{-\\infty}^{\\infty} f(t)\\overline{\\Psi_{m,n}}(t)dt = W(f)(m,n)=\\langle f,\\Psi_{m,n} \\rangle$ </font>\n",
    "\n",
    "### El conjunto $\\{\\Psi_{m,n}(t)\\}$ forma una base ortonormal para este espacio de Hilbert. El producto interno está dado por $\\int _{-\\infty}^{\\infty} \\Psi_{m,n}(t) \\overline{\\Psi_{m',n'}}(t) dt=\\delta_{mm'} \\delta_{nn'}$ (delta de Kronecker).\n",
    "\n",
    "# Onduletas en Python:\n",
    "\n",
    "### Comunmente se trabaja con la biblioteca PyWT. Esta biblioteca contiene distintas familias de señales que se muestran a continuación:\n"
   ]
  },
  {
   "cell_type": "code",
   "execution_count": 5,
   "id": "1feb9a6b",
   "metadata": {},
   "outputs": [
    {
     "name": "stdout",
     "output_type": "stream",
     "text": [
      "['Haar', 'Daubechies', 'Symlets', 'Coiflets', 'Biorthogonal', 'Reverse biorthogonal', 'Discrete Meyer (FIR Approximation)', 'Gaussian', 'Mexican hat wavelet', 'Morlet wavelet', 'Complex Gaussian wavelets', 'Shannon wavelets', 'Frequency B-Spline wavelets', 'Complex Morlet wavelets']\n",
      "['haar', 'db', 'sym', 'coif', 'bior', 'rbio', 'dmey', 'gaus', 'mexh', 'morl', 'cgau', 'shan', 'fbsp', 'cmor']\n"
     ]
    }
   ],
   "source": [
    "import pywt\n",
    "print(pywt.families(short=False)) #Muestra el nombre de cada clasificación de señales.\n",
    "print(pywt.families(short=True)) #Muestra la forma abreviada de su nombre, el que se utilizará para llamarla."
   ]
  },
  {
   "cell_type": "markdown",
   "id": "9dc5fddd",
   "metadata": {},
   "source": [
    "### Clasificadas como continuas y discretas:"
   ]
  },
  {
   "cell_type": "code",
   "execution_count": 8,
   "id": "e052bb02",
   "metadata": {},
   "outputs": [
    {
     "data": {
      "text/plain": [
       "['cgau1',\n",
       " 'cgau2',\n",
       " 'cgau3',\n",
       " 'cgau4',\n",
       " 'cgau5',\n",
       " 'cgau6',\n",
       " 'cgau7',\n",
       " 'cgau8',\n",
       " 'cmor',\n",
       " 'fbsp',\n",
       " 'gaus1',\n",
       " 'gaus2',\n",
       " 'gaus3',\n",
       " 'gaus4',\n",
       " 'gaus5',\n",
       " 'gaus6',\n",
       " 'gaus7',\n",
       " 'gaus8',\n",
       " 'mexh',\n",
       " 'morl',\n",
       " 'shan']"
      ]
     },
     "execution_count": 8,
     "metadata": {},
     "output_type": "execute_result"
    }
   ],
   "source": [
    "pywt.wavelist(kind='continuous') #Continuas"
   ]
  },
  {
   "cell_type": "code",
   "execution_count": 9,
   "id": "f87a929f",
   "metadata": {},
   "outputs": [
    {
     "data": {
      "text/plain": [
       "['bior1.1',\n",
       " 'bior1.3',\n",
       " 'bior1.5',\n",
       " 'bior2.2',\n",
       " 'bior2.4',\n",
       " 'bior2.6',\n",
       " 'bior2.8',\n",
       " 'bior3.1',\n",
       " 'bior3.3',\n",
       " 'bior3.5',\n",
       " 'bior3.7',\n",
       " 'bior3.9',\n",
       " 'bior4.4',\n",
       " 'bior5.5',\n",
       " 'bior6.8',\n",
       " 'coif1',\n",
       " 'coif2',\n",
       " 'coif3',\n",
       " 'coif4',\n",
       " 'coif5',\n",
       " 'coif6',\n",
       " 'coif7',\n",
       " 'coif8',\n",
       " 'coif9',\n",
       " 'coif10',\n",
       " 'coif11',\n",
       " 'coif12',\n",
       " 'coif13',\n",
       " 'coif14',\n",
       " 'coif15',\n",
       " 'coif16',\n",
       " 'coif17',\n",
       " 'db1',\n",
       " 'db2',\n",
       " 'db3',\n",
       " 'db4',\n",
       " 'db5',\n",
       " 'db6',\n",
       " 'db7',\n",
       " 'db8',\n",
       " 'db9',\n",
       " 'db10',\n",
       " 'db11',\n",
       " 'db12',\n",
       " 'db13',\n",
       " 'db14',\n",
       " 'db15',\n",
       " 'db16',\n",
       " 'db17',\n",
       " 'db18',\n",
       " 'db19',\n",
       " 'db20',\n",
       " 'db21',\n",
       " 'db22',\n",
       " 'db23',\n",
       " 'db24',\n",
       " 'db25',\n",
       " 'db26',\n",
       " 'db27',\n",
       " 'db28',\n",
       " 'db29',\n",
       " 'db30',\n",
       " 'db31',\n",
       " 'db32',\n",
       " 'db33',\n",
       " 'db34',\n",
       " 'db35',\n",
       " 'db36',\n",
       " 'db37',\n",
       " 'db38',\n",
       " 'dmey',\n",
       " 'haar',\n",
       " 'rbio1.1',\n",
       " 'rbio1.3',\n",
       " 'rbio1.5',\n",
       " 'rbio2.2',\n",
       " 'rbio2.4',\n",
       " 'rbio2.6',\n",
       " 'rbio2.8',\n",
       " 'rbio3.1',\n",
       " 'rbio3.3',\n",
       " 'rbio3.5',\n",
       " 'rbio3.7',\n",
       " 'rbio3.9',\n",
       " 'rbio4.4',\n",
       " 'rbio5.5',\n",
       " 'rbio6.8',\n",
       " 'sym2',\n",
       " 'sym3',\n",
       " 'sym4',\n",
       " 'sym5',\n",
       " 'sym6',\n",
       " 'sym7',\n",
       " 'sym8',\n",
       " 'sym9',\n",
       " 'sym10',\n",
       " 'sym11',\n",
       " 'sym12',\n",
       " 'sym13',\n",
       " 'sym14',\n",
       " 'sym15',\n",
       " 'sym16',\n",
       " 'sym17',\n",
       " 'sym18',\n",
       " 'sym19',\n",
       " 'sym20']"
      ]
     },
     "execution_count": 9,
     "metadata": {},
     "output_type": "execute_result"
    }
   ],
   "source": [
    "pywt.wavelist(kind='discrete') #Discretas"
   ]
  },
  {
   "cell_type": "markdown",
   "id": "87f8639f",
   "metadata": {},
   "source": [
    "### Información sobre una onduleta en particular:"
   ]
  },
  {
   "cell_type": "code",
   "execution_count": 13,
   "id": "a3c6db7a",
   "metadata": {},
   "outputs": [
    {
     "name": "stdout",
     "output_type": "stream",
     "text": [
      "ContinuousWavelet mexh\n",
      "  Family name:    Mexican hat wavelet\n",
      "  Short name:     mexh\n",
      "  Symmetry:       symmetric\n",
      "  DWT:            False\n",
      "  CWT:            True\n",
      "  Complex CWT:    False\n",
      "Wavelet sym2\n",
      "  Family name:    Symlets\n",
      "  Short name:     sym\n",
      "  Filters length: 4\n",
      "  Orthogonal:     True\n",
      "  Biorthogonal:   True\n",
      "  Symmetry:       near symmetric\n",
      "  DWT:            True\n",
      "  CWT:            False\n"
     ]
    }
   ],
   "source": [
    "print(pywt.ContinuousWavelet('mexh')) #Continua\n",
    "print(pywt.Wavelet('sym2') ) #Discreta"
   ]
  },
  {
   "cell_type": "markdown",
   "id": "799fa8d3",
   "metadata": {},
   "source": [
    "# Bibliografía recomendada:\n",
    "\n",
    "### 1) Debnath, L., & Shah, F. A. (2015). Wavelet transforms and their applications. Birkhäuser Boston: Birkhäuser.\n",
    "\n",
    "### 2) Bhatnagar, N. (2020). Introduction to wavelet transforms. Chapman and Hall/CRC.\n",
    "\n",
    "### 3) Burrus, C. S., Gopinath, R. A., & Guo, H. (1998). Introduction to wavelets and wavelet transforms: A primer. Prentice Hall.\n",
    "\n",
    "### 4) Meyer, Y. (1993). *Wavelets and operators*. Cambridge University Press."
   ]
  }
 ],
 "metadata": {
  "kernelspec": {
   "display_name": "Python 3 (ipykernel)",
   "language": "python",
   "name": "python3"
  },
  "language_info": {
   "codemirror_mode": {
    "name": "ipython",
    "version": 3
   },
   "file_extension": ".py",
   "mimetype": "text/x-python",
   "name": "python",
   "nbconvert_exporter": "python",
   "pygments_lexer": "ipython3",
   "version": "3.11.7"
  }
 },
 "nbformat": 4,
 "nbformat_minor": 5
}
